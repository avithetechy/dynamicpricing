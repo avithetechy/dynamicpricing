{
  "nbformat": 4,
  "nbformat_minor": 0,
  "metadata": {
    "colab": {
      "provenance": []
    },
    "kernelspec": {
      "name": "python3",
      "display_name": "Python 3"
    },
    "language_info": {
      "name": "python"
    }
  },
  "cells": [
    {
      "cell_type": "code",
      "execution_count": null,
      "metadata": {
        "id": "Hbam2WcZq_CZ"
      },
      "outputs": [],
      "source": [
        "import pandas as pd\n",
        "import numpy as np\n",
        "from sklearn.model_selection import train_test_split\n",
        "from sklearn.ensemble import RandomForestRegressor\n",
        "from sklearn.metrics import mean_squared_error, r2_score\n",
        "import pickle\n",
        "from sklearn.preprocessing import LabelEncoder"
      ]
    },
    {
      "cell_type": "code",
      "source": [
        "def train_and_save_model(csv_file_path, model_output_path):\n",
        "    \"\"\"Trains a Random Forest Regressor model and saves it as a pickle file.\"\"\"\n",
        "    try:\n",
        "        # Load the data\n",
        "        df = pd.read_csv(csv_file_path)\n",
        "\n",
        "        # Handle missing values (important for robust models)\n",
        "        df.fillna(0, inplace=True)  # Or use other imputation strategies if appropriate\n",
        "\n",
        "        # Convert categorical features to numerical using Label Encoding\n",
        "        categorical_cols = df.select_dtypes(include=['object']).columns\n",
        "        for col in categorical_cols:\n",
        "            le = LabelEncoder()\n",
        "            df[col] = le.fit_transform(df[col])\n",
        "\n",
        "        # Define features (X) and target (y)\n",
        "        X = df.drop('discount_price', axis=1)  # Features (all columns except discount_price)\n",
        "        y = df['discount_price']  # Target variable\n",
        "\n",
        "        # Split data into training and testing sets\n",
        "        X_train, X_test, y_train, y_test = train_test_split(X, y, test_size=0.2, random_state=42)  # 80% train, 20% test\n",
        "\n",
        "        # Create and train the Random Forest Regressor model\n",
        "        rf_model = RandomForestRegressor(n_estimators=100, random_state=42)  # You can tune hyperparameters here\n",
        "        rf_model.fit(X_train, y_train)\n",
        "\n",
        "        # Make predictions on the test set\n",
        "        y_pred = rf_model.predict(X_test)\n",
        "\n",
        "        # Evaluate the model\n",
        "        mse = mean_squared_error(y_test, y_pred)\n",
        "        r2 = r2_score(y_test, y_pred)\n",
        "        print(f\"Mean Squared Error: {mse}\")\n",
        "        print(f\"R-squared: {r2}\")\n",
        "\n",
        "        # Save the trained model to a pickle file\n",
        "        with open(model_output_path, 'wb') as file:\n",
        "            pickle.dump(rf_model, file)\n",
        "\n",
        "        print(f\"Model saved to {model_output_path}\")\n",
        "\n",
        "    except FileNotFoundError:\n",
        "        print(f\"Error: CSV file '{csv_file_path}' not found.\")\n",
        "    except Exception as e:\n",
        "        print(f\"An error occurred: {e}\")"
      ],
      "metadata": {
        "id": "bxAEqg_5rJs1"
      },
      "execution_count": null,
      "outputs": []
    },
    {
      "cell_type": "code",
      "source": [
        "def main():\n",
        "    try:\n",
        "        csv_file_path = \"/content/drive/MyDrive/postrgesqldata.csv\"  # Path to your extracted CSV\n",
        "        model_output_path = \"/content/drive/MyDrive/randfor_model.pkl\"  # Path to save the model\n",
        "        train_and_save_model(csv_file_path, model_output_path)\n",
        "\n",
        "    except Exception as e:\n",
        "        print(f\"An error occurred in main: {e}\")\n",
        "\n",
        "if __name__ == \"__main__\":\n",
        "    main()"
      ],
      "metadata": {
        "colab": {
          "base_uri": "https://localhost:8080/"
        },
        "id": "h2prbrQdrOH0",
        "outputId": "18a9fc89-e58a-4e22-b306-340d9bf7cadc"
      },
      "execution_count": null,
      "outputs": [
        {
          "output_type": "stream",
          "name": "stdout",
          "text": [
            "Mean Squared Error: 26202114.629885416\n",
            "R-squared: 0.6793048861296682\n",
            "Model saved to /content/drive/MyDrive/randfor_model.pkl\n"
          ]
        }
      ]
    },
    {
      "cell_type": "code",
      "source": [
        "def predict_discount_price(input_data, model_path, required_features):\n",
        "    \"\"\"Loads a trained model and makes predictions on new data with specified features.\"\"\"\n",
        "    try:\n",
        "        # Load the trained model\n",
        "        with open(model_path, 'rb') as file:\n",
        "            model = pickle.load(file)\n",
        "\n",
        "        # Ensure input_data is a DataFrame\n",
        "        if not isinstance(input_data, pd.DataFrame):\n",
        "            input_data = pd.DataFrame([input_data])\n",
        "\n",
        "        # Handle categorical features using the SAME LabelEncoders used during training\n",
        "        try:\n",
        "            with open(\"label_encoders.pkl\", 'rb') as f:\n",
        "                label_encoders = pickle.load(f)\n",
        "        except FileNotFoundError:\n",
        "            raise FileNotFoundError(\"label_encoders.pkl file not found. Make sure you saved it during training.\")\n",
        "\n",
        "        categorical_cols = input_data.select_dtypes(include=['object']).columns\n",
        "        for col in categorical_cols:\n",
        "            if col in label_encoders:\n",
        "                input_data[col] = label_encoders[col].transform(input_data[col])\n",
        "            else:\n",
        "                raise ValueError(f\"Label encoder for column '{col}' not found. Ensure it was saved during training.\")\n",
        "\n",
        "        # Select only the required features\n",
        "        input_data = input_data[required_features]\n",
        "\n",
        "        # Make predictions\n",
        "        predictions = model.predict(input_data)\n",
        "        return predictions\n",
        "\n",
        "    except FileNotFoundError:\n",
        "        return \"Error: Model file not found.\"\n",
        "    except Exception as e:\n",
        "        return f\"An error occurred: {e}\"\n"
      ],
      "metadata": {
        "id": "yFTd_cpTsw_V"
      },
      "execution_count": null,
      "outputs": []
    },
    {
      "cell_type": "code",
      "source": [
        "def main():\n",
        "    try:\n",
        "        model_path = \"/content/drive/MyDrive/randfor_model.pkl\"\n",
        "\n",
        "        # Define the required features (only festival and actual_price)\n",
        "        required_features = ['festival', 'actual_price']\n",
        "\n",
        "        # Example input data with only festival and actual_price\n",
        "        input_data = {\n",
        "            'festival': 1,\n",
        "            'actual_price': 15000\n",
        "        }\n",
        "\n",
        "        predictions = predict_discount_price(input_data, model_path, required_features)\n",
        "        print(f\"Predicted discount price: {predictions}\")\n",
        "\n",
        "        # Example with multiple rows\n",
        "        input_data_multiple = pd.DataFrame([\n",
        "            {'festival': 0, 'actual_price': 5000},\n",
        "            {'festival': 1, 'actual_price': 25000}\n",
        "        ])\n",
        "        predictions_multiple = predict_discount_price(input_data_multiple, model_path, required_features)\n",
        "        print(f\"Predicted discount prices (multiple): {predictions_multiple}\")\n",
        "\n",
        "    except Exception as e:\n",
        "        print(f\"An error occurred in main: {e}\")\n",
        "\n",
        "if __name__ == \"__main__\":\n",
        "    main()"
      ],
      "metadata": {
        "colab": {
          "base_uri": "https://localhost:8080/"
        },
        "id": "D-V3P8bUtEXZ",
        "outputId": "a85786cf-3d2f-42da-f910-376f1b2f2327"
      },
      "execution_count": null,
      "outputs": [
        {
          "output_type": "stream",
          "name": "stdout",
          "text": [
            "Predicted discount price: Error: Model file not found.\n",
            "Predicted discount prices (multiple): Error: Model file not found.\n"
          ]
        }
      ]
    },
    {
      "cell_type": "code",
      "source": [
        "import pickle\n",
        "import pandas as pd\n",
        "from sklearn.preprocessing import LabelEncoder\n",
        "\n",
        "def predict_discount_price(input_data, model_path):\n",
        "    \"\"\"Loads a trained model and makes predictions on new data.\"\"\"\n",
        "    try:\n",
        "        # Load the trained model\n",
        "        with open(model_path, 'rb') as file:\n",
        "            model = pickle.load(file)\n",
        "\n",
        "        # Ensure input_data is a DataFrame\n",
        "        if not isinstance(input_data, pd.DataFrame):\n",
        "            input_data = pd.DataFrame([input_data])  # Convert to DataFrame if it's a dictionary\n",
        "\n",
        "        # Handle categorical features using the SAME LabelEncoders used during training\n",
        "        # IMPORTANT: You MUST save the fitted LabelEncoders along with the model\n",
        "        try:\n",
        "            with open(\"label_encoders.pkl\", 'rb') as f:\n",
        "                label_encoders = pickle.load(f)\n",
        "        except FileNotFoundError:\n",
        "            raise FileNotFoundError(\"label_encoders.pkl file not found. Make sure you saved it during training.\")\n",
        "\n",
        "        categorical_cols = input_data.select_dtypes(include=['object']).columns\n",
        "        for col in categorical_cols:\n",
        "            if col in label_encoders:\n",
        "                input_data[col] = label_encoders[col].transform(input_data[col])\n",
        "            else:\n",
        "                raise ValueError(f\"Label encoder for column '{col}' not found. Ensure it was saved during training.\")\n",
        "\n",
        "\n",
        "        # Make predictions\n",
        "        predictions = model.predict(input_data)\n",
        "        return predictions\n",
        "\n",
        "    except FileNotFoundError:\n",
        "        return \"Error: Model file not found.\"\n",
        "    except Exception as e:\n",
        "        return f\"An error occurred: {e}\"\n",
        "\n",
        "def main():\n",
        "    try:\n",
        "        model_path = \"/content/drive/MyDrive/randfor_model.pkl\"  # Path to your saved model\n",
        "\n",
        "        # Example input data (replace with your actual data)\n",
        "        input_data = {\n",
        "            'date': '2024-10-27',\n",
        "            'name': 'Example Product',\n",
        "            'main_category': 'Electronics',\n",
        "            'sub_category': 'Mobile',\n",
        "            'ratings': 4.5,\n",
        "            'no_of_ratings': 1000,\n",
        "            'festival': 0,\n",
        "            'no_of_purchases': 5000,\n",
        "            'actual_price': 20000\n",
        "        }\n",
        "\n",
        "        # Convert date to the correct format:\n",
        "        input_data['date'] = pd.to_datetime(input_data['date']).strftime('%Y-%m-%d')\n",
        "\n",
        "        predictions = predict_discount_price(input_data, model_path)\n",
        "        print(f\"Predicted discount price: {predictions}\")\n",
        "\n",
        "        # Example with multiple rows of input data\n",
        "        input_data_multiple = pd.DataFrame([\n",
        "            {'date': '2024-10-27', 'name': 'Product A', 'main_category': 'Electronics', 'sub_category': 'Mobile', 'ratings': 4.2, 'no_of_ratings': 500, 'festival': 1, 'no_of_purchases': 2000, 'actual_price': 15000},\n",
        "            {'date': '2024-10-28', 'name': 'Product B', 'main_category': 'Clothing', 'sub_category': 'Men', 'ratings': 3.8, 'no_of_ratings': 250, 'festival': 0, 'no_of_purchases': 1000, 'actual_price': 5000}\n",
        "        ])\n",
        "        input_data_multiple['date'] = pd.to_datetime(input_data_multiple['date']).dt.strftime('%Y-%m-%d')\n",
        "        predictions_multiple = predict_discount_price(input_data_multiple, model_path)\n",
        "        print(f\"Predicted discount prices (multiple): {predictions_multiple}\")\n",
        "\n",
        "    except Exception as e:\n",
        "        print(f\"An error occurred in main: {e}\")\n",
        "\n",
        "if __name__ == \"__main__\":\n",
        "    main()"
      ],
      "metadata": {
        "colab": {
          "base_uri": "https://localhost:8080/"
        },
        "id": "z1xB6cc2zB_q",
        "outputId": "bfee8567-34bf-425f-bc4d-4709ca8c295a"
      },
      "execution_count": null,
      "outputs": [
        {
          "output_type": "stream",
          "name": "stdout",
          "text": [
            "Model Path: /content/randfor_model.pkl\n",
            "Predicted discount price: Error: Model file not found.\n",
            "Predicted discount prices (multiple): Error: Model file not found.\n"
          ]
        }
      ]
    },
    {
      "cell_type": "code",
      "source": [
        "rf_model"
      ],
      "metadata": {
        "colab": {
          "base_uri": "https://localhost:8080/",
          "height": 141
        },
        "id": "vGmLcd41tgp0",
        "outputId": "1b092ec9-f570-4f2d-d8a4-e1b4259b8b8b"
      },
      "execution_count": null,
      "outputs": [
        {
          "output_type": "error",
          "ename": "NameError",
          "evalue": "name 'rf_model' is not defined",
          "traceback": [
            "\u001b[0;31m---------------------------------------------------------------------------\u001b[0m",
            "\u001b[0;31mNameError\u001b[0m                                 Traceback (most recent call last)",
            "\u001b[0;32m<ipython-input-7-726c6de7d4b3>\u001b[0m in \u001b[0;36m<cell line: 1>\u001b[0;34m()\u001b[0m\n\u001b[0;32m----> 1\u001b[0;31m \u001b[0mrf_model\u001b[0m\u001b[0;34m\u001b[0m\u001b[0;34m\u001b[0m\u001b[0m\n\u001b[0m",
            "\u001b[0;31mNameError\u001b[0m: name 'rf_model' is not defined"
          ]
        }
      ]
    }
  ]
}